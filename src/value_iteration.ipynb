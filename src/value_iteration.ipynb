{
 "cells": [
  {
   "cell_type": "code",
   "execution_count": 1,
   "metadata": {},
   "outputs": [],
   "source": [
    "from environment import GridWorld\n",
    "from agent import Agent"
   ]
  },
  {
   "cell_type": "code",
   "execution_count": 2,
   "metadata": {},
   "outputs": [],
   "source": [
    "env = GridWorld()\n",
    "agent = Agent(env)\n"
   ]
  },
  {
   "cell_type": "code",
   "execution_count": 3,
   "metadata": {},
   "outputs": [
    {
     "data": {
      "text/plain": [
       "array([3.10866558, 3.70149798, 4.30587432, 5.13727884, 5.24550221,\n",
       "       3.6401609 , 4.21487345, 4.87788587, 5.89598861, 6.30865203,\n",
       "       3.06550252, 3.48643571, 0.        , 6.75271588, 7.60493592,\n",
       "       2.56814181, 2.8854946 , 0.        , 8.05937407, 9.18974927,\n",
       "       2.13798389, 2.14451682, 6.17210931, 9.18974927, 0.        ])"
      ]
     },
     "execution_count": 3,
     "metadata": {},
     "output_type": "execute_result"
    }
   ],
   "source": [
    "agent.value_iteration()"
   ]
  },
  {
   "cell_type": "code",
   "execution_count": 5,
   "metadata": {},
   "outputs": [],
   "source": [
    "optimal_policy = agent.get_optimal_policy()"
   ]
  },
  {
   "cell_type": "code",
   "execution_count": 8,
   "metadata": {},
   "outputs": [
    {
     "name": "stdout",
     "output_type": "stream",
     "text": [
      "[(0, 0), (0, 1), (1, 1), (1, 2), (1, 3), (1, 3), (2, 3), (3, 3), (3, 4), (3, 4), (4, 4)]\n",
      "10\n"
     ]
    }
   ],
   "source": [
    "trajectory = agent.get_trajectory(optimal_policy)\n",
    "print(trajectory)\n",
    "print(agent.get_return(trajectory))"
   ]
  },
  {
   "cell_type": "code",
   "execution_count": null,
   "metadata": {},
   "outputs": [],
   "source": []
  }
 ],
 "metadata": {
  "kernelspec": {
   "display_name": "Python 3",
   "language": "python",
   "name": "python3"
  },
  "language_info": {
   "codemirror_mode": {
    "name": "ipython",
    "version": 3
   },
   "file_extension": ".py",
   "mimetype": "text/x-python",
   "name": "python",
   "nbconvert_exporter": "python",
   "pygments_lexer": "ipython3",
   "version": "3.12.0"
  }
 },
 "nbformat": 4,
 "nbformat_minor": 2
}
